{
 "cells": [
  {
   "cell_type": "code",
   "execution_count": 1,
   "id": "4f3fa30e",
   "metadata": {
    "execution": {
     "iopub.execute_input": "2023-09-05T14:12:35.688429Z",
     "iopub.status.busy": "2023-09-05T14:12:35.687548Z",
     "iopub.status.idle": "2023-09-05T14:12:35.699892Z",
     "shell.execute_reply": "2023-09-05T14:12:35.698797Z"
    },
    "papermill": {
     "duration": 0.028102,
     "end_time": "2023-09-05T14:12:35.702712",
     "exception": false,
     "start_time": "2023-09-05T14:12:35.674610",
     "status": "completed"
    },
    "tags": []
   },
   "outputs": [],
   "source": [
    "import numpy as np\n",
    "import pandas as pd\n",
    "import matplotlib.pyplot as plt\n",
    "import random\n",
    "import warnings\n",
    "warnings.filterwarnings(\"ignore\")"
   ]
  },
  {
   "cell_type": "code",
   "execution_count": 2,
   "id": "0af0cf5d",
   "metadata": {
    "execution": {
     "iopub.execute_input": "2023-09-05T14:12:35.725549Z",
     "iopub.status.busy": "2023-09-05T14:12:35.725040Z",
     "iopub.status.idle": "2023-09-05T14:12:35.730335Z",
     "shell.execute_reply": "2023-09-05T14:12:35.729125Z"
    },
    "papermill": {
     "duration": 0.020137,
     "end_time": "2023-09-05T14:12:35.733064",
     "exception": false,
     "start_time": "2023-09-05T14:12:35.712927",
     "status": "completed"
    },
    "scrolled": true,
    "tags": []
   },
   "outputs": [],
   "source": [
    "# data = pd.read_csv('/kaggle/input/salary-data/Salary_Data.csv')\n",
    "#data = pd.read_csv('/kaggle/input/101-simple-linear-regressioncsv/1.01. Simple linear regression.csv')"
   ]
  },
  {
   "cell_type": "code",
   "execution_count": 3,
   "id": "5a273c40",
   "metadata": {
    "execution": {
     "iopub.execute_input": "2023-09-05T14:12:35.755324Z",
     "iopub.status.busy": "2023-09-05T14:12:35.754421Z",
     "iopub.status.idle": "2023-09-05T14:12:35.759317Z",
     "shell.execute_reply": "2023-09-05T14:12:35.758431Z"
    },
    "papermill": {
     "duration": 0.018951,
     "end_time": "2023-09-05T14:12:35.761806",
     "exception": false,
     "start_time": "2023-09-05T14:12:35.742855",
     "status": "completed"
    },
    "tags": []
   },
   "outputs": [],
   "source": [
    "# x = data.iloc[:,0].values\n",
    "# y = data.iloc[:,-1].values"
   ]
  },
  {
   "cell_type": "code",
   "execution_count": 4,
   "id": "21af1710",
   "metadata": {
    "execution": {
     "iopub.execute_input": "2023-09-05T14:12:35.783957Z",
     "iopub.status.busy": "2023-09-05T14:12:35.783054Z",
     "iopub.status.idle": "2023-09-05T14:12:35.789635Z",
     "shell.execute_reply": "2023-09-05T14:12:35.788761Z"
    },
    "papermill": {
     "duration": 0.020576,
     "end_time": "2023-09-05T14:12:35.792207",
     "exception": false,
     "start_time": "2023-09-05T14:12:35.771631",
     "status": "completed"
    },
    "tags": []
   },
   "outputs": [],
   "source": [
    "np.random.seed(0)\n",
    "x = np.random.randn(1000,1).reshape(1,-1)[0]\n",
    "y = 3 * x + 5 + np.random.normal(10,1.5,1000)"
   ]
  },
  {
   "cell_type": "code",
   "execution_count": 5,
   "id": "59fdb1dc",
   "metadata": {
    "execution": {
     "iopub.execute_input": "2023-09-05T14:12:35.814265Z",
     "iopub.status.busy": "2023-09-05T14:12:35.813389Z",
     "iopub.status.idle": "2023-09-05T14:12:37.091034Z",
     "shell.execute_reply": "2023-09-05T14:12:37.089525Z"
    },
    "papermill": {
     "duration": 1.292791,
     "end_time": "2023-09-05T14:12:37.094425",
     "exception": false,
     "start_time": "2023-09-05T14:12:35.801634",
     "status": "completed"
    },
    "tags": []
   },
   "outputs": [],
   "source": [
    "from sklearn.model_selection import train_test_split\n",
    "\n",
    "x_train,x_test,y_train,y_test = train_test_split(x,y,test_size = 0.3,random_state = 0)"
   ]
  },
  {
   "cell_type": "code",
   "execution_count": 6,
   "id": "fbd115ce",
   "metadata": {
    "execution": {
     "iopub.execute_input": "2023-09-05T14:12:37.116266Z",
     "iopub.status.busy": "2023-09-05T14:12:37.115741Z",
     "iopub.status.idle": "2023-09-05T14:12:37.125456Z",
     "shell.execute_reply": "2023-09-05T14:12:37.124043Z"
    },
    "papermill": {
     "duration": 0.023822,
     "end_time": "2023-09-05T14:12:37.128108",
     "exception": false,
     "start_time": "2023-09-05T14:12:37.104286",
     "status": "completed"
    },
    "tags": []
   },
   "outputs": [],
   "source": [
    "from sklearn.preprocessing import StandardScaler\n",
    "\n",
    "scaler = StandardScaler()\n",
    "x_train = np.array(scaler.fit_transform(x_train.reshape(-1,1)))\n",
    "x_test = np.array(scaler.fit_transform(x_test.reshape(-1,1)))"
   ]
  },
  {
   "cell_type": "markdown",
   "id": "16241653",
   "metadata": {
    "papermill": {
     "duration": 0.009491,
     "end_time": "2023-09-05T14:12:37.149509",
     "exception": false,
     "start_time": "2023-09-05T14:12:37.140018",
     "status": "completed"
    },
    "tags": []
   },
   "source": [
    " Lets consider a hypothesized equation of line that will represent best fit line to our data.\n",
    "### $\\hat{Y} = mx + c$\n",
    "        \n",
    "### $\\hspace{1cm}\\hat{y} : \\hspace{2mm}estimated \\hspace{1mm}output$\n",
    "        \n",
    "### $\\hspace{1cm}m    : \\hspace{2mm}slope$\n",
    "\n",
    "### $\\hspace{1cm}c    : \\hspace{2mm}y-intercept$\n",
    "\n",
    "\n",
    "A cost function is a mathematical function that is minimized to get the optimal values of slope ‘m’ and y-intercept ‘c’. <br>The cost function associated with linear regression is called the mean squared error.\n",
    "\n",
    "#### $Cost function : J(m,c) = \\frac{1}{2n}\\sum(y_i-\\hat{y_i})^2$\n",
    "#### $\\hspace{5cm}=\\frac{1}{2n}\\sum(y_i- mx_i + c)^2$\n",
    "\n",
    "Mathematically, the Gradient Descent works by calculating the partial derivative  to the current value of ‘m’ and ‘c’. <br>At each step, the value of both ‘m’ and ‘c’ get updated simultaneously. <br>The values will keep on updating until we reach the value of ‘m’ and ‘c’ for which the cost function reaches the minimum value.\n",
    "\n",
    "### $m_{new} = m_{old} - learning\\hspace{1mm}rate \\times \\frac{\\partial}{\\partial m} J(m,c) .......(i)$ \n",
    "### $c_{new} = c_{old} - learning\\hspace{1mm}rate \\times \\frac{\\partial}{\\partial c} J(m,c) .......(ii)$ \n",
    "$\\newline$\n",
    "* ### $Partial \\hspace{1mm}derivative \\hspace{1mm} calculation.$\n",
    "$\\newline$\n",
    "### $\\frac{\\partial}{\\partial m} J(m,c) = \\frac{\\partial}{\\partial m} \\frac{1}{2n}\\sum(y-\\hat{y})^2$  \n",
    "### $\\frac{\\partial}{\\partial c} J(m,c) = \\frac{\\partial}{\\partial c} \\frac{1}{2n}\\sum(y-\\hat{y})^2$\n",
    "$\\newline$\n",
    "* ### $Consider\\hspace{1mm} partial\\hspace{1mm} derivative\\hspace{1mm} of \\hspace{1mm}one \\hspace{1mm}training \\hspace{1mm}example.$\n",
    "$\\newline$\n",
    "\n",
    "### $\\hspace{5mm}\\frac{\\partial}{\\partial m} J(m,c)=\\frac{\\partial}{\\partial m} \\frac{1}{2n}(y-\\hat{y})^2$\n",
    "### $\\hspace{3cm}={_2}\\frac{1}{2n}(y-\\hat{y}) \\times \\frac{\\partial}{\\partial m} (y-\\hat{y}) $\n",
    "### $\\hspace{3cm}=\\frac{1}{n}(y-\\hat{y}) \\times \\frac{\\partial}{\\partial m} (y-mx - c) $\n",
    "### $\\hspace{3cm}=\\frac{1}{n}(y-\\hat{y})\\times {-x}$\n",
    "\n",
    "***\n",
    "### $\\hspace{5mm}\\frac{\\partial}{\\partial m} J(m,c) =\\frac{-x}{n}(y-\\hat{y}).......(iii)$ \n",
    "***\n",
    "\n",
    "### $\\hspace{5mm}\\frac{\\partial}{\\partial c} J(m,c)=\\frac{\\partial}{\\partial c} \\frac{1}{2n}(y-\\hat{y})^2$\n",
    "### $\\hspace{3cm}={_2}\\frac{1}{2n}(y-\\hat{y}) \\times \\frac{\\partial}{\\partial c} (y-\\hat{y}) $\n",
    "### $\\hspace{3cm}=\\frac{1}{n}(y-\\hat{y}) \\times \\frac{\\partial}{\\partial c} (y-mx - c) $\n",
    "### $\\hspace{3cm}=\\frac{1}{n}(y-\\hat{y})\\times {-1}$\n",
    "\n",
    "***\n",
    "### $\\hspace{5mm}\\frac{\\partial}{\\partial c} J(m,c)=\\frac{-1}{n}(y-\\hat{y}).......(iv)$\n",
    "***\n",
    "\n",
    "\n",
    "$\\newline$\n",
    "* ### $Substituting\\hspace{1mm}\\hspace{1mm} (iii)\\hspace{1mm} and\\hspace{1mm} (iv)\\hspace{1mm} in \\hspace{1mm}equation\\hspace{1mm} (i) \\hspace{1mm}and \\hspace{1mm}(ii)\\hspace{1mm} respectively.$\n",
    "* ### $Derivative\\hspace{1mm}\\hspace{1mm} of \\hspace{1mm}sum \\hspace{1mm}is \\hspace{1mm}sum \\hspace{1mm}of \\hspace{1mm}derivative.$\n",
    "$\\newline$\n",
    "\n",
    "\n",
    "### $m_{new} = m_{old} - learning\\hspace{1mm}rate \\times \\frac{\\partial}{\\partial m} J(m,c)$\n",
    "### $m_{new} = m_{old} - learning\\hspace{1mm}rate \\times \\frac{-x}{n}(y-\\hat{y})$\n",
    "***\n",
    "### $m_{new} = m_{old} - learning\\hspace{1mm}rate \\times \\frac{1}{n}\\sum(y_i-\\hat{y_i})\\times {-x_i}$\n",
    "***\n",
    "\n",
    "$\\newline$\n",
    "\n",
    "### $c_{new} = c_{old} - learning\\hspace{1mm}rate \\times \\frac{\\partial}{\\partial c} J(m,c)$\n",
    "### $c_{new} = c_{old} - learning\\hspace{1mm}rate \\times \\frac{-1}{n}(y-\\hat{y})$\n",
    "***\n",
    "### $c_{new} = c_{old} - learning\\hspace{1mm}rate \\times \\frac{1}{n}\\sum(y_i-\\hat{y_i})\\times {-1} $\n",
    "***\n",
    "\n",
    "> We got final equation to update the parameters (m,c) of the hypothesized straight line. "
   ]
  },
  {
   "cell_type": "markdown",
   "id": "7e1b9cff",
   "metadata": {
    "papermill": {
     "duration": 0.010024,
     "end_time": "2023-09-05T14:12:37.169280",
     "exception": false,
     "start_time": "2023-09-05T14:12:37.159256",
     "status": "completed"
    },
    "tags": []
   },
   "source": [
    "## Creating linear regression class"
   ]
  },
  {
   "cell_type": "markdown",
   "id": "27523f5c",
   "metadata": {
    "execution": {
     "iopub.execute_input": "2023-09-05T06:38:16.311223Z",
     "iopub.status.busy": "2023-09-05T06:38:16.310897Z",
     "iopub.status.idle": "2023-09-05T06:38:16.315720Z",
     "shell.execute_reply": "2023-09-05T06:38:16.314367Z",
     "shell.execute_reply.started": "2023-09-05T06:38:16.311197Z"
    },
    "papermill": {
     "duration": 0.00916,
     "end_time": "2023-09-05T14:12:37.188136",
     "exception": false,
     "start_time": "2023-09-05T14:12:37.178976",
     "status": "completed"
    },
    "tags": []
   },
   "source": [
    "Gradient descent (GD) is an iterative first-order optimisation algorithm used to find a local minimum/maximum of a given function. \n",
    "<br>This method is commonly used in machine learning (ML) and deep learning(DL) to minimise a cost/loss function (e.g. in a linear regression)."
   ]
  },
  {
   "cell_type": "code",
   "execution_count": 7,
   "id": "b8b7f17e",
   "metadata": {
    "execution": {
     "iopub.execute_input": "2023-09-05T14:12:37.210458Z",
     "iopub.status.busy": "2023-09-05T14:12:37.209493Z",
     "iopub.status.idle": "2023-09-05T14:12:37.224800Z",
     "shell.execute_reply": "2023-09-05T14:12:37.223693Z"
    },
    "papermill": {
     "duration": 0.029733,
     "end_time": "2023-09-05T14:12:37.227600",
     "exception": false,
     "start_time": "2023-09-05T14:12:37.197867",
     "status": "completed"
    },
    "tags": []
   },
   "outputs": [],
   "source": [
    "class LinReg:\n",
    "    def __init__(self):\n",
    "        self.m = 0\n",
    "        self.c = 0\n",
    "        self.learning_rate = 0.01    \n",
    "    \n",
    "    def GD(self,x,y,epochs,learning_rate):\n",
    "        dldm = 0.0\n",
    "        dldc = 0.0\n",
    "        m = 0.0\n",
    "        c = 0.0\n",
    "        n = x.shape[0]\n",
    "        dldm = np.sum(-x * (y-(self.m*x+ self.c))) # .....(iii)\n",
    "        dldc = np.sum(-1 * (y-(self.m*x+ self.c))) # .....(iv)\n",
    "\n",
    "        m = self.m - (self.learning_rate * (1/n) * dldm) # final equation\n",
    "        c = self.c - (self.learning_rate * (1/n) * dldc) # final equation\n",
    "        return m,c\n",
    "        \n",
    "    def fit(self,x ,y ,epochs ,learning_rate ,batch_size = None ,method = 'SGD'):\n",
    "        if x.ndim >1:\n",
    "            x = np.squeeze(x)\n",
    "        if batch_size is None and method == 'GD':\n",
    "            for i in range(epochs):\n",
    "                self.m ,self.c = self.GD(x,y,epochs,learning_rate)\n",
    "                            \n",
    "        elif batch_size is not None and method == 'SGD':\n",
    "            \n",
    "            for i in range(epochs):\n",
    "                for i in range(int(len(x)/batch_size)):\n",
    "                    ind = random.sample(range(len(x)),batch_size)\n",
    "\n",
    "                    x = x[ind]\n",
    "                    y = y[ind]\n",
    "\n",
    "                    self.m ,self.c =self.GD(x,y,epochs,learning_rate)\n",
    "        \n",
    "        elif batch_size is not None and method == 'GD':\n",
    "            raise TypeError(\"fit() don't require keyword argument : 'batch_size' when method is GD.\")\n",
    "            \n",
    "        elif batch_size is None and method == 'SGD':\n",
    "            raise TypeError(\"fit() missing 1 required keyword argument : 'batch_size' when method is 'SGD'.\") \n",
    "            \n",
    "    def predict(self,x):\n",
    "        if x.ndim >1:\n",
    "            x=np.squeeze(x)\n",
    "        return self.m * x + self.c\n"
   ]
  },
  {
   "cell_type": "code",
   "execution_count": 8,
   "id": "91cb4647",
   "metadata": {
    "execution": {
     "iopub.execute_input": "2023-09-05T14:12:37.249234Z",
     "iopub.status.busy": "2023-09-05T14:12:37.248738Z",
     "iopub.status.idle": "2023-09-05T14:12:37.254271Z",
     "shell.execute_reply": "2023-09-05T14:12:37.253044Z"
    },
    "papermill": {
     "duration": 0.01949,
     "end_time": "2023-09-05T14:12:37.256972",
     "exception": false,
     "start_time": "2023-09-05T14:12:37.237482",
     "status": "completed"
    },
    "tags": []
   },
   "outputs": [],
   "source": [
    "model = LinReg()"
   ]
  },
  {
   "cell_type": "code",
   "execution_count": 9,
   "id": "72d930b8",
   "metadata": {
    "execution": {
     "iopub.execute_input": "2023-09-05T14:12:37.278529Z",
     "iopub.status.busy": "2023-09-05T14:12:37.278033Z",
     "iopub.status.idle": "2023-09-05T14:12:37.324899Z",
     "shell.execute_reply": "2023-09-05T14:12:37.323207Z"
    },
    "papermill": {
     "duration": 0.061446,
     "end_time": "2023-09-05T14:12:37.328166",
     "exception": false,
     "start_time": "2023-09-05T14:12:37.266720",
     "status": "completed"
    },
    "tags": []
   },
   "outputs": [],
   "source": [
    "model.fit(x_train ,y_train ,epochs=850 ,learning_rate=0.01 ,method='GD') # Gradient descent.\n",
    "# model.fit(x_train ,y_train ,batch_size = 90 ,epochs=900 ,learning_rate=0.01 ,method='SGD') # Stochastic gradient descent. "
   ]
  },
  {
   "cell_type": "code",
   "execution_count": 10,
   "id": "c4b79983",
   "metadata": {
    "execution": {
     "iopub.execute_input": "2023-09-05T14:12:37.350690Z",
     "iopub.status.busy": "2023-09-05T14:12:37.349417Z",
     "iopub.status.idle": "2023-09-05T14:12:37.355627Z",
     "shell.execute_reply": "2023-09-05T14:12:37.354393Z"
    },
    "papermill": {
     "duration": 0.020554,
     "end_time": "2023-09-05T14:12:37.358707",
     "exception": false,
     "start_time": "2023-09-05T14:12:37.338153",
     "status": "completed"
    },
    "tags": []
   },
   "outputs": [],
   "source": [
    "y_preds = model.predict(x_test)"
   ]
  },
  {
   "cell_type": "code",
   "execution_count": 11,
   "id": "8bae88b3",
   "metadata": {
    "execution": {
     "iopub.execute_input": "2023-09-05T14:12:37.381073Z",
     "iopub.status.busy": "2023-09-05T14:12:37.380308Z",
     "iopub.status.idle": "2023-09-05T14:12:37.415619Z",
     "shell.execute_reply": "2023-09-05T14:12:37.414301Z"
    },
    "papermill": {
     "duration": 0.050367,
     "end_time": "2023-09-05T14:12:37.419233",
     "exception": false,
     "start_time": "2023-09-05T14:12:37.368866",
     "status": "completed"
    },
    "tags": []
   },
   "outputs": [
    {
     "data": {
      "text/html": [
       "<div>\n",
       "<style scoped>\n",
       "    .dataframe tbody tr th:only-of-type {\n",
       "        vertical-align: middle;\n",
       "    }\n",
       "\n",
       "    .dataframe tbody tr th {\n",
       "        vertical-align: top;\n",
       "    }\n",
       "\n",
       "    .dataframe thead th {\n",
       "        text-align: right;\n",
       "    }\n",
       "</style>\n",
       "<table border=\"1\" class=\"dataframe\">\n",
       "  <thead>\n",
       "    <tr style=\"text-align: right;\">\n",
       "      <th></th>\n",
       "      <th>Actual</th>\n",
       "      <th>Predicted</th>\n",
       "      <th>Difference</th>\n",
       "    </tr>\n",
       "  </thead>\n",
       "  <tbody>\n",
       "    <tr>\n",
       "      <th>0</th>\n",
       "      <td>15.237176</td>\n",
       "      <td>15.85</td>\n",
       "      <td>0.62</td>\n",
       "    </tr>\n",
       "    <tr>\n",
       "      <th>1</th>\n",
       "      <td>14.914210</td>\n",
       "      <td>15.16</td>\n",
       "      <td>0.25</td>\n",
       "    </tr>\n",
       "    <tr>\n",
       "      <th>2</th>\n",
       "      <td>14.040529</td>\n",
       "      <td>13.80</td>\n",
       "      <td>0.24</td>\n",
       "    </tr>\n",
       "    <tr>\n",
       "      <th>3</th>\n",
       "      <td>15.079553</td>\n",
       "      <td>14.22</td>\n",
       "      <td>0.86</td>\n",
       "    </tr>\n",
       "    <tr>\n",
       "      <th>4</th>\n",
       "      <td>6.567477</td>\n",
       "      <td>8.83</td>\n",
       "      <td>2.26</td>\n",
       "    </tr>\n",
       "    <tr>\n",
       "      <th>...</th>\n",
       "      <td>...</td>\n",
       "      <td>...</td>\n",
       "      <td>...</td>\n",
       "    </tr>\n",
       "    <tr>\n",
       "      <th>295</th>\n",
       "      <td>10.932325</td>\n",
       "      <td>10.12</td>\n",
       "      <td>0.81</td>\n",
       "    </tr>\n",
       "    <tr>\n",
       "      <th>296</th>\n",
       "      <td>9.844315</td>\n",
       "      <td>11.39</td>\n",
       "      <td>1.55</td>\n",
       "    </tr>\n",
       "    <tr>\n",
       "      <th>297</th>\n",
       "      <td>11.289134</td>\n",
       "      <td>12.07</td>\n",
       "      <td>0.78</td>\n",
       "    </tr>\n",
       "    <tr>\n",
       "      <th>298</th>\n",
       "      <td>12.839965</td>\n",
       "      <td>13.96</td>\n",
       "      <td>1.12</td>\n",
       "    </tr>\n",
       "    <tr>\n",
       "      <th>299</th>\n",
       "      <td>13.931635</td>\n",
       "      <td>15.54</td>\n",
       "      <td>1.61</td>\n",
       "    </tr>\n",
       "  </tbody>\n",
       "</table>\n",
       "<p>300 rows × 3 columns</p>\n",
       "</div>"
      ],
      "text/plain": [
       "        Actual  Predicted  Difference\n",
       "0    15.237176      15.85        0.62\n",
       "1    14.914210      15.16        0.25\n",
       "2    14.040529      13.80        0.24\n",
       "3    15.079553      14.22        0.86\n",
       "4     6.567477       8.83        2.26\n",
       "..         ...        ...         ...\n",
       "295  10.932325      10.12        0.81\n",
       "296   9.844315      11.39        1.55\n",
       "297  11.289134      12.07        0.78\n",
       "298  12.839965      13.96        1.12\n",
       "299  13.931635      15.54        1.61\n",
       "\n",
       "[300 rows x 3 columns]"
      ]
     },
     "execution_count": 11,
     "metadata": {},
     "output_type": "execute_result"
    }
   ],
   "source": [
    "pd.DataFrame(np.concatenate([y_test.reshape(-1,1),\n",
    "                np.round(y_preds,2).reshape(-1,1),\n",
    "                (np.round(abs(y_test-y_preds),2)).reshape(-1,1)],axis = 1),columns = ['Actual','Predicted','Difference'])"
   ]
  },
  {
   "cell_type": "code",
   "execution_count": 12,
   "id": "a3634cab",
   "metadata": {
    "execution": {
     "iopub.execute_input": "2023-09-05T14:12:37.441976Z",
     "iopub.status.busy": "2023-09-05T14:12:37.441465Z",
     "iopub.status.idle": "2023-09-05T14:12:37.448980Z",
     "shell.execute_reply": "2023-09-05T14:12:37.448037Z"
    },
    "papermill": {
     "duration": 0.022263,
     "end_time": "2023-09-05T14:12:37.451818",
     "exception": false,
     "start_time": "2023-09-05T14:12:37.429555",
     "status": "completed"
    },
    "tags": []
   },
   "outputs": [
    {
     "data": {
      "text/plain": [
       "0.3339411502787044"
      ]
     },
     "execution_count": 12,
     "metadata": {},
     "output_type": "execute_result"
    }
   ],
   "source": [
    "loss = np.divide(np.sum((y_test-y_preds)**2),2*x.shape[0])\n",
    "loss"
   ]
  },
  {
   "cell_type": "code",
   "execution_count": 13,
   "id": "76d68704",
   "metadata": {
    "execution": {
     "iopub.execute_input": "2023-09-05T14:12:37.475848Z",
     "iopub.status.busy": "2023-09-05T14:12:37.475173Z",
     "iopub.status.idle": "2023-09-05T14:12:37.481711Z",
     "shell.execute_reply": "2023-09-05T14:12:37.480644Z"
    },
    "papermill": {
     "duration": 0.021782,
     "end_time": "2023-09-05T14:12:37.484390",
     "exception": false,
     "start_time": "2023-09-05T14:12:37.462608",
     "status": "completed"
    },
    "tags": []
   },
   "outputs": [
    {
     "data": {
      "text/plain": [
       "2.987304064738251"
      ]
     },
     "execution_count": 13,
     "metadata": {},
     "output_type": "execute_result"
    }
   ],
   "source": [
    "model.m # 2.9878865427158687 "
   ]
  },
  {
   "cell_type": "code",
   "execution_count": 14,
   "id": "1ccf404c",
   "metadata": {
    "execution": {
     "iopub.execute_input": "2023-09-05T14:12:37.508248Z",
     "iopub.status.busy": "2023-09-05T14:12:37.507495Z",
     "iopub.status.idle": "2023-09-05T14:12:37.513874Z",
     "shell.execute_reply": "2023-09-05T14:12:37.512665Z"
    },
    "papermill": {
     "duration": 0.021444,
     "end_time": "2023-09-05T14:12:37.516678",
     "exception": false,
     "start_time": "2023-09-05T14:12:37.495234",
     "status": "completed"
    },
    "tags": []
   },
   "outputs": [
    {
     "data": {
      "text/plain": [
       "14.910574554590331"
      ]
     },
     "execution_count": 14,
     "metadata": {},
     "output_type": "execute_result"
    }
   ],
   "source": [
    "model.c # 14.913481885455708"
   ]
  },
  {
   "cell_type": "code",
   "execution_count": 15,
   "id": "cc06d4b4",
   "metadata": {
    "execution": {
     "iopub.execute_input": "2023-09-05T14:12:37.540309Z",
     "iopub.status.busy": "2023-09-05T14:12:37.539764Z",
     "iopub.status.idle": "2023-09-05T14:12:38.060969Z",
     "shell.execute_reply": "2023-09-05T14:12:38.059920Z"
    },
    "papermill": {
     "duration": 0.536089,
     "end_time": "2023-09-05T14:12:38.063531",
     "exception": false,
     "start_time": "2023-09-05T14:12:37.527442",
     "status": "completed"
    },
    "tags": []
   },
   "outputs": [
    {
     "data": {
      "text/plain": [
       "<matplotlib.legend.Legend at 0x79e488463e20>"
      ]
     },
     "execution_count": 15,
     "metadata": {},
     "output_type": "execute_result"
    },
    {
     "data": {
      "image/png": "[encoded data removed]",
      "text/plain": [
       "<Figure size 1000x800 with 1 Axes>"
      ]
     },
     "metadata": {},
     "output_type": "display_data"
    }
   ],
   "source": [
    "plt.figure(figsize=(10,8))\n",
    "plt.scatter(x_train,y_train,color='blue')\n",
    "plt.scatter(x_test,model.predict(x_test),color='red',label=\"Predictions of unseen points\")\n",
    "plt.plot(x_train,model.predict(x_train),color='yellow',label=\"Regression line\")\n",
    "\n",
    "plt.xlabel('x')\n",
    "plt.ylabel('y')\n",
    "plt.legend()"
   ]
  },
  {
   "cell_type": "markdown",
   "id": "83f7eb32",
   "metadata": {
    "papermill": {
     "duration": 0.011961,
     "end_time": "2023-09-05T14:12:38.087560",
     "exception": false,
     "start_time": "2023-09-05T14:12:38.075599",
     "status": "completed"
    },
    "tags": []
   },
   "source": [
    "# Alternative way to check our gradient descent parameters for simple linear regression."
   ]
  },
  {
   "cell_type": "markdown",
   "id": "06965d3f",
   "metadata": {
    "papermill": {
     "duration": 0.011643,
     "end_time": "2023-09-05T14:12:38.111471",
     "exception": false,
     "start_time": "2023-09-05T14:12:38.099828",
     "status": "completed"
    },
    "tags": []
   },
   "source": [
    "## Least square method\n",
    " Under most situation, you can choose to use either ordinary least square or gradient descent.\n",
    " <br>With small dataset OLS is preferred. However, if features are too large, should consider using gradient descent as it would compute faster.\n",
    "*  Least squares problems are optimization problems in which the objective (error) function may be expressed as a sum of squares.\n",
    "*  While Gradient Descent is an algorithm to construct the solution of an optimization problem approximately.\n",
    "\n",
    "* gradient descent is one of the ways (like OLS) to find optimum values of regression coefficients (m ,c) to bring the error term E in linear regression close to zero.\n",
    " <br> Unlike OLS, gradient descent does not try to solve any closed for solution. \n",
    "\n",
    "\n",
    "* It achieves the same objective by more crude way of starting with random values of regression coefficients (m ,c) and iteratively changing them to achieve the lowest value of error term E."
   ]
  },
  {
   "cell_type": "code",
   "execution_count": 16,
   "id": "82344557",
   "metadata": {
    "execution": {
     "iopub.execute_input": "2023-09-05T14:12:38.138196Z",
     "iopub.status.busy": "2023-09-05T14:12:38.137194Z",
     "iopub.status.idle": "2023-09-05T14:12:38.144971Z",
     "shell.execute_reply": "2023-09-05T14:12:38.143636Z"
    },
    "papermill": {
     "duration": 0.024781,
     "end_time": "2023-09-05T14:12:38.148079",
     "exception": false,
     "start_time": "2023-09-05T14:12:38.123298",
     "status": "completed"
    },
    "tags": []
   },
   "outputs": [],
   "source": [
    "def leastsquare(x,y):\n",
    "    if x.ndim > 1:\n",
    "        x=np.squeeze(x)\n",
    "    d= x-np.mean(x)\n",
    "    m = np.divide(np.sum((d)*y),np.sum((d)**2))\n",
    "    return m,np.divide(np.sum(y),x.shape[0])"
   ]
  },
  {
   "cell_type": "code",
   "execution_count": 17,
   "id": "263c15bb",
   "metadata": {
    "execution": {
     "iopub.execute_input": "2023-09-05T14:12:38.174928Z",
     "iopub.status.busy": "2023-09-05T14:12:38.174417Z",
     "iopub.status.idle": "2023-09-05T14:12:38.181445Z",
     "shell.execute_reply": "2023-09-05T14:12:38.180158Z"
    },
    "papermill": {
     "duration": 0.023957,
     "end_time": "2023-09-05T14:12:38.184454",
     "exception": false,
     "start_time": "2023-09-05T14:12:38.160497",
     "status": "completed"
    },
    "tags": []
   },
   "outputs": [
    {
     "name": "stdout",
     "output_type": "stream",
     "text": [
      "2.9878865427158687 14.913481885455708\n"
     ]
    }
   ],
   "source": [
    "m1,c1 = leastsquare(x_train,y_train)\n",
    "print(m1,c1) # results are same or apporximately same as our gradient descent."
   ]
  }
 ],
 "kernelspec": {
  "display_name": "Python 3",
  "language": "python",
  "name": "python3"
 },
 "language_info": {
  "codemirror_mode": {
   "name": "ipython",
   "version": 3
  },
  "file_extension": ".py",
  "mimetype": "text/x-python",
  "name": "python",
  "nbconvert_exporter": "python",
  "pygments_lexer": "ipython3",
  "version": "3.6.4"
 },
 "metadata": {
  "kernelspec": {
   "display_name": "Python 3",
   "language": "python",
   "name": "python3"
  },
  "language_info": {
   "codemirror_mode": {
    "name": "ipython",
    "version": 3
   },
   "file_extension": ".py",
   "mimetype": "text/x-python",
   "name": "python",
   "nbconvert_exporter": "python",
   "pygments_lexer": "ipython3",
   "version": "3.10.12"
  },
  "papermill": {
   "default_parameters": {},
   "duration": 16.395779,
   "end_time": "2023-09-05T14:12:39.221782",
   "environment_variables": {},
   "exception": null,
   "input_path": "__notebook__.ipynb",
   "output_path": "__notebook__.ipynb",
   "parameters": {},
   "start_time": "2023-09-05T14:12:22.826003",
   "version": "2.4.0"
  }
 },
 "nbformat": 4,
 "nbformat_minor": 5
}
