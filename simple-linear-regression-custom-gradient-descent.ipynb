{
 "cells": [
  {
   "cell_type": "code",
   "execution_count": 1,
   "id": "5c5a90f5",
   "metadata": {
    "execution": {
     "iopub.execute_input": "2023-09-10T13:03:46.411755Z",
     "iopub.status.busy": "2023-09-10T13:03:46.411205Z",
     "iopub.status.idle": "2023-09-10T13:03:46.419962Z",
     "shell.execute_reply": "2023-09-10T13:03:46.419214Z"
    },
    "papermill": {
     "duration": 0.020201,
     "end_time": "2023-09-10T13:03:46.422094",
     "exception": false,
     "start_time": "2023-09-10T13:03:46.401893",
     "status": "completed"
    },
    "tags": []
   },
   "outputs": [],
   "source": [
    "import numpy as np\n",
    "import pandas as pd\n",
    "import matplotlib.pyplot as plt\n",
    "import random\n",
    "from IPython.display import Image\n",
    "import warnings\n",
    "warnings.filterwarnings(\"ignore\")"
   ]
  },
  {
   "cell_type": "code",
   "execution_count": 2,
   "id": "1c0c0428",
   "metadata": {
    "execution": {
     "iopub.execute_input": "2023-09-10T13:03:46.437894Z",
     "iopub.status.busy": "2023-09-10T13:03:46.437311Z",
     "iopub.status.idle": "2023-09-10T13:03:46.440702Z",
     "shell.execute_reply": "2023-09-10T13:03:46.440046Z"
    },
    "papermill": {
     "duration": 0.013467,
     "end_time": "2023-09-10T13:03:46.442670",
     "exception": false,
     "start_time": "2023-09-10T13:03:46.429203",
     "status": "completed"
    },
    "scrolled": true,
    "tags": []
   },
   "outputs": [],
   "source": [
    "# # Try these datasets.\n",
    "# data = pd.read_csv('/kaggle/input/salary-data/Salary_Data.csv') \n",
    "# data = pd.read_csv('/kaggle/input/101-simple-linear-regressioncsv/1.01. Simple linear regression.csv')"
   ]
  },
  {
   "cell_type": "code",
   "execution_count": 3,
   "id": "5ff938e7",
   "metadata": {
    "execution": {
     "iopub.execute_input": "2023-09-10T13:03:46.458359Z",
     "iopub.status.busy": "2023-09-10T13:03:46.457786Z",
     "iopub.status.idle": "2023-09-10T13:03:46.461128Z",
     "shell.execute_reply": "2023-09-10T13:03:46.460419Z"
    },
    "papermill": {
     "duration": 0.013594,
     "end_time": "2023-09-10T13:03:46.463090",
     "exception": false,
     "start_time": "2023-09-10T13:03:46.449496",
     "status": "completed"
    },
    "tags": []
   },
   "outputs": [],
   "source": [
    "# x = data.iloc[:,0].values\n",
    "# y = data.iloc[:,-1].values"
   ]
  },
  {
   "cell_type": "code",
   "execution_count": 4,
   "id": "137abd38",
   "metadata": {
    "execution": {
     "iopub.execute_input": "2023-09-10T13:03:46.483872Z",
     "iopub.status.busy": "2023-09-10T13:03:46.483160Z",
     "iopub.status.idle": "2023-09-10T13:03:46.487910Z",
     "shell.execute_reply": "2023-09-10T13:03:46.487204Z"
    },
    "papermill": {
     "duration": 0.017648,
     "end_time": "2023-09-10T13:03:46.490473",
     "exception": false,
     "start_time": "2023-09-10T13:03:46.472825",
     "status": "completed"
    },
    "tags": []
   },
   "outputs": [],
   "source": [
    "np.random.seed(0)\n",
    "x = np.random.randn(1000,1).reshape(1,-1)[0]\n",
    "y = 3 * x + 5 + np.random.normal(10,1.5,1000)"
   ]
  },
  {
   "cell_type": "code",
   "execution_count": 5,
   "id": "b8b0ef5c",
   "metadata": {
    "execution": {
     "iopub.execute_input": "2023-09-10T13:03:46.511802Z",
     "iopub.status.busy": "2023-09-10T13:03:46.511127Z",
     "iopub.status.idle": "2023-09-10T13:03:47.685777Z",
     "shell.execute_reply": "2023-09-10T13:03:47.684588Z"
    },
    "papermill": {
     "duration": 1.188597,
     "end_time": "2023-09-10T13:03:47.688315",
     "exception": false,
     "start_time": "2023-09-10T13:03:46.499718",
     "status": "completed"
    },
    "tags": []
   },
   "outputs": [],
   "source": [
    "from sklearn.model_selection import train_test_split\n",
    "\n",
    "x_train,x_test,y_train,y_test = train_test_split(x,y,test_size = 0.3,random_state = 0)"
   ]
  },
  {
   "cell_type": "code",
   "execution_count": 6,
   "id": "58579192",
   "metadata": {
    "execution": {
     "iopub.execute_input": "2023-09-10T13:03:47.705819Z",
     "iopub.status.busy": "2023-09-10T13:03:47.705412Z",
     "iopub.status.idle": "2023-09-10T13:03:47.713952Z",
     "shell.execute_reply": "2023-09-10T13:03:47.712841Z"
    },
    "papermill": {
     "duration": 0.020685,
     "end_time": "2023-09-10T13:03:47.716231",
     "exception": false,
     "start_time": "2023-09-10T13:03:47.695546",
     "status": "completed"
    },
    "tags": []
   },
   "outputs": [],
   "source": [
    "from sklearn.preprocessing import StandardScaler\n",
    "\n",
    "scaler = StandardScaler()\n",
    "x_train = np.array(scaler.fit_transform(x_train.reshape(-1,1)))\n",
    "x_test = np.array(scaler.fit_transform(x_test.reshape(-1,1)))"
   ]
  },
  {
   "cell_type": "markdown",
   "id": "1f222d02",
   "metadata": {
    "papermill": {
     "duration": 0.006724,
     "end_time": "2023-09-10T13:03:47.731215",
     "exception": false,
     "start_time": "2023-09-10T13:03:47.724491",
     "status": "completed"
    },
    "tags": []
   },
   "source": [
    " Lets consider a hypothesized equation of line that will represent best fit line to our data.\n",
    "### $\\hat{Y} = mx + c$\n",
    "        \n",
    "### $\\hspace{1cm}\\hat{y} : \\hspace{2mm}estimated \\hspace{1mm}output$\n",
    "        \n",
    "### $\\hspace{1cm}m    : \\hspace{2mm}slope$\n",
    "\n",
    "### $\\hspace{1cm}c    : \\hspace{2mm}y-intercept$\n",
    "\n",
    "\n",
    "A cost function is a mathematical function that is minimized to get the optimal values of slope ‘m’ and y-intercept ‘c’. <br>The cost function associated with linear regression is called the mean squared error.\n",
    "\n",
    "#### $Cost function : J(m,c) = \\frac{1}{2n}\\sum(y_i-\\hat{y_i})^2$\n",
    "#### $\\hspace{5cm}=\\frac{1}{2n}\\sum(y_i- mx_i - c)^2$\n",
    "\n",
    "Mathematically, the Gradient Descent works by calculating the partial derivative  to the current value of ‘m’ and ‘c’. <br>At each step, the value of both ‘m’ and ‘c’ get updated simultaneously. <br>The values will keep on updating until we reach the value of ‘m’ and ‘c’ for which the cost function reaches the minimum value.\n",
    "\n",
    "### $m_{new} = m_{old} - learning\\hspace{1mm}rate \\times \\frac{\\partial}{\\partial m} J(m,c) .......(i)$ \n",
    "### $c_{new} = c_{old} - learning\\hspace{1mm}rate \\times \\frac{\\partial}{\\partial c} J(m,c) .......(ii)$ \n",
    "$\\newline$\n",
    "* ### $Partial \\hspace{1mm}derivative \\hspace{1mm} calculation.$\n",
    "$\\newline$\n",
    "### $\\frac{\\partial}{\\partial m} J(m,c) = \\frac{\\partial}{\\partial m} \\frac{1}{2n}\\sum(y_i-\\hat{y_i})^2$  \n",
    "### $\\frac{\\partial}{\\partial c} J(m,c) = \\frac{\\partial}{\\partial c} \\frac{1}{2n}\\sum(y_i-\\hat{y_i})^2$\n",
    "$\\newline$\n",
    "* ### $Consider\\hspace{1mm} partial\\hspace{1mm} derivative\\hspace{1mm} of \\hspace{1mm}one \\hspace{1mm}training \\hspace{1mm}example.$\n",
    "$\\newline$\n",
    "\n",
    "### $\\hspace{5mm}\\frac{\\partial}{\\partial m} J(m,c)=\\frac{\\partial}{\\partial m} \\frac{1}{2n}(y-\\hat{y})^2$\n",
    "### $\\hspace{3cm}={_2}\\frac{1}{2n}(y-\\hat{y}) \\times \\frac{\\partial}{\\partial m} (y-\\hat{y}) $\n",
    "### $\\hspace{3cm}=\\frac{1}{n}(y-\\hat{y}) \\times \\frac{\\partial}{\\partial m} (y-mx - c) $\n",
    "### $\\hspace{3cm}=\\frac{1}{n}(y-\\hat{y})\\times {-x}$\n",
    "\n",
    "***\n",
    "### $\\hspace{5mm}\\frac{\\partial}{\\partial m} J(m,c) =\\frac{-x}{n}(y-\\hat{y}).......(iii)$ \n",
    "***\n",
    "\n",
    "### $\\hspace{5mm}\\frac{\\partial}{\\partial c} J(m,c)=\\frac{\\partial}{\\partial c} \\frac{1}{2n}(y-\\hat{y})^2$\n",
    "### $\\hspace{3cm}={_2}\\frac{1}{2n}(y-\\hat{y}) \\times \\frac{\\partial}{\\partial c} (y-\\hat{y}) $\n",
    "### $\\hspace{3cm}=\\frac{1}{n}(y-\\hat{y}) \\times \\frac{\\partial}{\\partial c} (y-mx - c) $\n",
    "### $\\hspace{3cm}=\\frac{1}{n}(y-\\hat{y})\\times {-1}$\n",
    "\n",
    "***\n",
    "### $\\hspace{5mm}\\frac{\\partial}{\\partial c} J(m,c)=\\frac{-1}{n}(y-\\hat{y}).......(iv)$\n",
    "***\n",
    "\n",
    "\n",
    "$\\newline$\n",
    "* ### $Substituting\\hspace{1mm}\\hspace{1mm} (iii)\\hspace{1mm} and\\hspace{1mm} (iv)\\hspace{1mm} in \\hspace{1mm}equation\\hspace{1mm} (i) \\hspace{1mm}and \\hspace{1mm}(ii)\\hspace{1mm} respectively.$\n",
    "* ### $Derivative\\hspace{1mm}\\hspace{1mm} of \\hspace{1mm}sum \\hspace{1mm}is \\hspace{1mm}sum \\hspace{1mm}of \\hspace{1mm}derivative.$\n",
    "$\\newline$\n",
    "\n",
    "\n",
    "### $m_{new} = m_{old} - learning\\hspace{1mm}rate \\times \\frac{\\partial}{\\partial m} J(m,c)$\n",
    "### $m_{new} = m_{old} - learning\\hspace{1mm}rate \\times \\frac{-x}{n}(y-\\hat{y})$\n",
    "***\n",
    "### $m_{new} = m_{old} - learning\\hspace{1mm}rate \\times \\frac{1}{n}\\sum(y_i-\\hat{y_i})\\times {-x_i}$\n",
    "***\n",
    "\n",
    "$\\newline$\n",
    "\n",
    "### $c_{new} = c_{old} - learning\\hspace{1mm}rate \\times \\frac{\\partial}{\\partial c} J(m,c)$\n",
    "### $c_{new} = c_{old} - learning\\hspace{1mm}rate \\times \\frac{-1}{n}(y-\\hat{y})$\n",
    "***\n",
    "### $c_{new} = c_{old} - learning\\hspace{1mm}rate \\times \\frac{1}{n}\\sum(y_i-\\hat{y_i})\\times {-1} $\n",
    "***\n",
    "\n",
    "> We got final equation to update the parameters (m,c) of the hypothesized straight line. "
   ]
  },
  {
   "cell_type": "markdown",
   "id": "bb383157",
   "metadata": {
    "papermill": {
     "duration": 0.006752,
     "end_time": "2023-09-10T13:03:47.744591",
     "exception": false,
     "start_time": "2023-09-10T13:03:47.737839",
     "status": "completed"
    },
    "tags": []
   },
   "source": [
    "## Creating linear regression class"
   ]
  },
  {
   "cell_type": "markdown",
   "id": "0d7f1eea",
   "metadata": {
    "execution": {
     "iopub.execute_input": "2023-09-05T06:38:16.311223Z",
     "iopub.status.busy": "2023-09-05T06:38:16.310897Z",
     "iopub.status.idle": "2023-09-05T06:38:16.315720Z",
     "shell.execute_reply": "2023-09-05T06:38:16.314367Z",
     "shell.execute_reply.started": "2023-09-05T06:38:16.311197Z"
    },
    "papermill": {
     "duration": 0.007147,
     "end_time": "2023-09-10T13:03:47.758352",
     "exception": false,
     "start_time": "2023-09-10T13:03:47.751205",
     "status": "completed"
    },
    "tags": []
   },
   "source": [
    "Gradient descent (GD) is an iterative first-order optimisation algorithm used to find a local minimum/maximum of a given function. \n",
    "<br>This method is commonly used in machine learning (ML) and deep learning(DL) to minimise a cost/loss function (e.g. in a linear regression)."
   ]
  },
  {
   "cell_type": "code",
   "execution_count": 7,
   "id": "8f8b3da8",
   "metadata": {
    "execution": {
     "iopub.execute_input": "2023-09-10T13:03:47.773447Z",
     "iopub.status.busy": "2023-09-10T13:03:47.773062Z",
     "iopub.status.idle": "2023-09-10T13:03:47.785054Z",
     "shell.execute_reply": "2023-09-10T13:03:47.784026Z"
    },
    "papermill": {
     "duration": 0.021896,
     "end_time": "2023-09-10T13:03:47.787173",
     "exception": false,
     "start_time": "2023-09-10T13:03:47.765277",
     "status": "completed"
    },
    "tags": []
   },
   "outputs": [],
   "source": [
    "class LinReg:\n",
    "    def __init__(self):\n",
    "        self.m = 0\n",
    "        self.c = 0 \n",
    "        self.learning_rate = 0.01\n",
    "\n",
    "    def GD(self,x,y,epochs,learning_rate):\n",
    "        dldm = 0.0\n",
    "        dldc = 0.0\n",
    "        m = 0.0\n",
    "        c = 0.0\n",
    "        n = x.shape[0]\n",
    "        dldm = np.sum(-x * (y-(self.m*x+ self.c))) # .....(iii)\n",
    "        dldc = np.sum(-1 * (y-(self.m*x+ self.c))) # .....(iv)\n",
    "\n",
    "        m = self.m - (self.learning_rate * (1/n) * dldm) # final equation\n",
    "        c = self.c - (self.learning_rate * (1/n) * dldc) # final equation\n",
    "    \n",
    "        yhat = m * x + c\n",
    "        \n",
    "        return m,c\n",
    "        \n",
    "    def fit(self,x ,y ,epochs ,learning_rate ,batch_size = None ,method = 'SGD'):\n",
    "        if x.ndim >1:\n",
    "            x = np.squeeze(x)\n",
    "        if batch_size is None and method == 'GD':\n",
    "            for i in range(epochs):\n",
    "                self.m ,self.c = self.GD(x,y,epochs,learning_rate)\n",
    "                            \n",
    "        elif batch_size is not None and method == 'SGD':\n",
    "            \n",
    "            for i in range(epochs):\n",
    "                for i in range(int(len(x)/batch_size)):\n",
    "                    ind = random.sample(range(len(x)),batch_size)\n",
    "\n",
    "                    x = x[ind]\n",
    "                    y = y[ind]\n",
    "\n",
    "                    self.m ,self.c =self.GD(x,y,epochs,learning_rate)\n",
    "        \n",
    "        elif batch_size is not None and method == 'GD':\n",
    "            raise TypeError(\"fit() don't require keyword argument : 'batch_size' when method is GD.\")\n",
    "            \n",
    "        elif batch_size is None and method == 'SGD':\n",
    "            raise TypeError(\"fit() missing 1 required keyword argument : 'batch_size' when method is 'SGD'.\")\n",
    "                \n",
    "            \n",
    "    def predict(self,x):\n",
    "        if x.ndim >1:\n",
    "            x=np.squeeze(x)\n",
    "        return self.m * x + self.c\n"
   ]
  },
  {
   "cell_type": "code",
   "execution_count": 8,
   "id": "7470a01e",
   "metadata": {
    "execution": {
     "iopub.execute_input": "2023-09-10T13:03:47.803637Z",
     "iopub.status.busy": "2023-09-10T13:03:47.803006Z",
     "iopub.status.idle": "2023-09-10T13:03:47.806734Z",
     "shell.execute_reply": "2023-09-10T13:03:47.806072Z"
    },
    "papermill": {
     "duration": 0.013493,
     "end_time": "2023-09-10T13:03:47.808648",
     "exception": false,
     "start_time": "2023-09-10T13:03:47.795155",
     "status": "completed"
    },
    "tags": []
   },
   "outputs": [],
   "source": [
    "model = LinReg()"
   ]
  },
  {
   "cell_type": "code",
   "execution_count": 9,
   "id": "66b1df2b",
   "metadata": {
    "execution": {
     "iopub.execute_input": "2023-09-10T13:03:47.823888Z",
     "iopub.status.busy": "2023-09-10T13:03:47.823262Z",
     "iopub.status.idle": "2023-09-10T13:03:47.856123Z",
     "shell.execute_reply": "2023-09-10T13:03:47.855288Z"
    },
    "papermill": {
     "duration": 0.043062,
     "end_time": "2023-09-10T13:03:47.858449",
     "exception": false,
     "start_time": "2023-09-10T13:03:47.815387",
     "status": "completed"
    },
    "tags": []
   },
   "outputs": [],
   "source": [
    "model.fit(x_train ,y_train ,epochs=1000 ,learning_rate=0.01 ,method='GD') # Gradient descent.\n",
    "# model.fit(x_train ,y_train ,batch_size = 90 ,epochs=900 ,learning_rate=0.01 ,method='SGD') # Stochastic gradient descent. "
   ]
  },
  {
   "cell_type": "code",
   "execution_count": 10,
   "id": "02f59801",
   "metadata": {
    "execution": {
     "iopub.execute_input": "2023-09-10T13:03:47.873724Z",
     "iopub.status.busy": "2023-09-10T13:03:47.873072Z",
     "iopub.status.idle": "2023-09-10T13:03:47.877017Z",
     "shell.execute_reply": "2023-09-10T13:03:47.876292Z"
    },
    "papermill": {
     "duration": 0.01376,
     "end_time": "2023-09-10T13:03:47.878996",
     "exception": false,
     "start_time": "2023-09-10T13:03:47.865236",
     "status": "completed"
    },
    "tags": []
   },
   "outputs": [],
   "source": [
    "y_preds = model.predict(x_test)"
   ]
  },
  {
   "cell_type": "code",
   "execution_count": 11,
   "id": "4c089885",
   "metadata": {
    "execution": {
     "iopub.execute_input": "2023-09-10T13:03:47.894713Z",
     "iopub.status.busy": "2023-09-10T13:03:47.894013Z",
     "iopub.status.idle": "2023-09-10T13:03:47.924004Z",
     "shell.execute_reply": "2023-09-10T13:03:47.922877Z"
    },
    "papermill": {
     "duration": 0.040802,
     "end_time": "2023-09-10T13:03:47.926647",
     "exception": false,
     "start_time": "2023-09-10T13:03:47.885845",
     "status": "completed"
    },
    "tags": []
   },
   "outputs": [
    {
     "data": {
      "text/html": [
       "<div>\n",
       "<style scoped>\n",
       "    .dataframe tbody tr th:only-of-type {\n",
       "        vertical-align: middle;\n",
       "    }\n",
       "\n",
       "    .dataframe tbody tr th {\n",
       "        vertical-align: top;\n",
       "    }\n",
       "\n",
       "    .dataframe thead th {\n",
       "        text-align: right;\n",
       "    }\n",
       "</style>\n",
       "<table border=\"1\" class=\"dataframe\">\n",
       "  <thead>\n",
       "    <tr style=\"text-align: right;\">\n",
       "      <th></th>\n",
       "      <th>Actual</th>\n",
       "      <th>Predicted</th>\n",
       "      <th>Difference</th>\n",
       "    </tr>\n",
       "  </thead>\n",
       "  <tbody>\n",
       "    <tr>\n",
       "      <th>0</th>\n",
       "      <td>15.237176</td>\n",
       "      <td>15.86</td>\n",
       "      <td>0.62</td>\n",
       "    </tr>\n",
       "    <tr>\n",
       "      <th>1</th>\n",
       "      <td>14.914210</td>\n",
       "      <td>15.16</td>\n",
       "      <td>0.25</td>\n",
       "    </tr>\n",
       "    <tr>\n",
       "      <th>2</th>\n",
       "      <td>14.040529</td>\n",
       "      <td>13.80</td>\n",
       "      <td>0.24</td>\n",
       "    </tr>\n",
       "    <tr>\n",
       "      <th>3</th>\n",
       "      <td>15.079553</td>\n",
       "      <td>14.22</td>\n",
       "      <td>0.86</td>\n",
       "    </tr>\n",
       "    <tr>\n",
       "      <th>4</th>\n",
       "      <td>6.567477</td>\n",
       "      <td>8.83</td>\n",
       "      <td>2.27</td>\n",
       "    </tr>\n",
       "    <tr>\n",
       "      <th>...</th>\n",
       "      <td>...</td>\n",
       "      <td>...</td>\n",
       "      <td>...</td>\n",
       "    </tr>\n",
       "    <tr>\n",
       "      <th>295</th>\n",
       "      <td>10.932325</td>\n",
       "      <td>10.12</td>\n",
       "      <td>0.81</td>\n",
       "    </tr>\n",
       "    <tr>\n",
       "      <th>296</th>\n",
       "      <td>9.844315</td>\n",
       "      <td>11.40</td>\n",
       "      <td>1.55</td>\n",
       "    </tr>\n",
       "    <tr>\n",
       "      <th>297</th>\n",
       "      <td>11.289134</td>\n",
       "      <td>12.07</td>\n",
       "      <td>0.78</td>\n",
       "    </tr>\n",
       "    <tr>\n",
       "      <th>298</th>\n",
       "      <td>12.839965</td>\n",
       "      <td>13.96</td>\n",
       "      <td>1.12</td>\n",
       "    </tr>\n",
       "    <tr>\n",
       "      <th>299</th>\n",
       "      <td>13.931635</td>\n",
       "      <td>15.55</td>\n",
       "      <td>1.61</td>\n",
       "    </tr>\n",
       "  </tbody>\n",
       "</table>\n",
       "<p>300 rows × 3 columns</p>\n",
       "</div>"
      ],
      "text/plain": [
       "        Actual  Predicted  Difference\n",
       "0    15.237176      15.86        0.62\n",
       "1    14.914210      15.16        0.25\n",
       "2    14.040529      13.80        0.24\n",
       "3    15.079553      14.22        0.86\n",
       "4     6.567477       8.83        2.27\n",
       "..         ...        ...         ...\n",
       "295  10.932325      10.12        0.81\n",
       "296   9.844315      11.40        1.55\n",
       "297  11.289134      12.07        0.78\n",
       "298  12.839965      13.96        1.12\n",
       "299  13.931635      15.55        1.61\n",
       "\n",
       "[300 rows x 3 columns]"
      ]
     },
     "execution_count": 11,
     "metadata": {},
     "output_type": "execute_result"
    }
   ],
   "source": [
    "pd.DataFrame(np.concatenate([y_test.reshape(-1,1),\n",
    "                np.round(y_preds,2).reshape(-1,1),\n",
    "                (np.round(abs(y_test-y_preds),2)).reshape(-1,1)],axis = 1),columns = ['Actual','Predicted','Difference'])"
   ]
  },
  {
   "cell_type": "code",
   "execution_count": 12,
   "id": "cfba1ed9",
   "metadata": {
    "execution": {
     "iopub.execute_input": "2023-09-10T13:03:47.942791Z",
     "iopub.status.busy": "2023-09-10T13:03:47.942139Z",
     "iopub.status.idle": "2023-09-10T13:03:47.948936Z",
     "shell.execute_reply": "2023-09-10T13:03:47.948119Z"
    },
    "papermill": {
     "duration": 0.017205,
     "end_time": "2023-09-10T13:03:47.950928",
     "exception": false,
     "start_time": "2023-09-10T13:03:47.933723",
     "status": "completed"
    },
    "tags": []
   },
   "outputs": [
    {
     "data": {
      "text/plain": [
       "0.33403914488647946"
      ]
     },
     "execution_count": 12,
     "metadata": {},
     "output_type": "execute_result"
    }
   ],
   "source": [
    "loss = np.divide(np.sum((y_test-y_preds)**2),2*x.shape[0])\n",
    "loss"
   ]
  },
  {
   "cell_type": "code",
   "execution_count": 13,
   "id": "4bdac61e",
   "metadata": {
    "execution": {
     "iopub.execute_input": "2023-09-10T13:03:47.967062Z",
     "iopub.status.busy": "2023-09-10T13:03:47.966407Z",
     "iopub.status.idle": "2023-09-10T13:03:47.972926Z",
     "shell.execute_reply": "2023-09-10T13:03:47.971910Z"
    },
    "papermill": {
     "duration": 0.016857,
     "end_time": "2023-09-10T13:03:47.974915",
     "exception": false,
     "start_time": "2023-09-10T13:03:47.958058",
     "status": "completed"
    },
    "tags": []
   },
   "outputs": [
    {
     "data": {
      "text/plain": [
       "2.987757551926699"
      ]
     },
     "execution_count": 13,
     "metadata": {},
     "output_type": "execute_result"
    }
   ],
   "source": [
    "model.m # 2.9878865427158687 "
   ]
  },
  {
   "cell_type": "code",
   "execution_count": 14,
   "id": "b13fa3f2",
   "metadata": {
    "execution": {
     "iopub.execute_input": "2023-09-10T13:03:47.991166Z",
     "iopub.status.busy": "2023-09-10T13:03:47.990530Z",
     "iopub.status.idle": "2023-09-10T13:03:47.996782Z",
     "shell.execute_reply": "2023-09-10T13:03:47.995971Z"
    },
    "papermill": {
     "duration": 0.016673,
     "end_time": "2023-09-10T13:03:47.998696",
     "exception": false,
     "start_time": "2023-09-10T13:03:47.982023",
     "status": "completed"
    },
    "tags": []
   },
   "outputs": [
    {
     "data": {
      "text/plain": [
       "14.912838051839474"
      ]
     },
     "execution_count": 14,
     "metadata": {},
     "output_type": "execute_result"
    }
   ],
   "source": [
    "model.c # 14.913481885455708"
   ]
  },
  {
   "cell_type": "code",
   "execution_count": 15,
   "id": "9d10d865",
   "metadata": {
    "execution": {
     "iopub.execute_input": "2023-09-10T13:03:48.016204Z",
     "iopub.status.busy": "2023-09-10T13:03:48.015568Z",
     "iopub.status.idle": "2023-09-10T13:03:48.447065Z",
     "shell.execute_reply": "2023-09-10T13:03:48.445982Z"
    },
    "papermill": {
     "duration": 0.44276,
     "end_time": "2023-09-10T13:03:48.449465",
     "exception": false,
     "start_time": "2023-09-10T13:03:48.006705",
     "status": "completed"
    },
    "tags": []
   },
   "outputs": [
    {
     "data": {
      "text/plain": [
       "<matplotlib.legend.Legend at 0x79fde36fbeb0>"
      ]
     },
     "execution_count": 15,
     "metadata": {},
     "output_type": "execute_result"
    },
    {
     "data": {
      "image/png": "[encoded data removed]",
      "text/plain": [
       "<Figure size 1000x800 with 1 Axes>"
      ]
     },
     "metadata": {},
     "output_type": "display_data"
    }
   ],
   "source": [
    "plt.figure(figsize=(10,8))\n",
    "plt.scatter(x_train,y_train,color='blue')\n",
    "plt.scatter(x_test,model.predict(x_test),color='red',label=\"Predictions of unseen points\")\n",
    "plt.plot(x_train,model.predict(x_train),color='yellow',label=\"Regression line\")\n",
    "\n",
    "plt.xlabel('x')\n",
    "plt.ylabel('y')\n",
    "plt.legend()"
   ]
  },
  {
   "cell_type": "markdown",
   "id": "19d57c25",
   "metadata": {
    "papermill": {
     "duration": 0.008117,
     "end_time": "2023-09-10T13:03:48.466105",
     "exception": false,
     "start_time": "2023-09-10T13:03:48.457988",
     "status": "completed"
    },
    "tags": []
   },
   "source": [
    "# Alternative way to check our gradient descent parameters for simple linear regression."
   ]
  },
  {
   "cell_type": "markdown",
   "id": "112dc026",
   "metadata": {
    "papermill": {
     "duration": 0.00805,
     "end_time": "2023-09-10T13:03:48.482792",
     "exception": false,
     "start_time": "2023-09-10T13:03:48.474742",
     "status": "completed"
    },
    "tags": []
   },
   "source": [
    "## Least square method\n",
    " Under most situation, you can choose to use either ordinary least square or gradient descent.\n",
    " <br>With small dataset OLS is preferred. However, if features are too large, should consider using gradient descent as it would compute faster.\n",
    "*  Least squares problems are optimization problems in which the objective (error) function may be expressed as a sum of squares.\n",
    "*  While Gradient Descent is an algorithm to construct the solution of an optimization problem approximately.\n",
    "\n",
    "* gradient descent is one of the ways (like OLS) to find optimum values of regression coefficients (m ,c) to bring the error term E in linear regression close to zero.\n",
    " <br> Unlike OLS, gradient descent does not try to solve any closed for solution. \n",
    "\n",
    "\n",
    "* It achieves the same objective by more crude way of starting with random values of regression coefficients (m ,c) and iteratively changing them to achieve the lowest value of error term E."
   ]
  },
  {
   "cell_type": "code",
   "execution_count": 16,
   "id": "e58e3f45",
   "metadata": {
    "execution": {
     "iopub.execute_input": "2023-09-10T13:03:48.502058Z",
     "iopub.status.busy": "2023-09-10T13:03:48.501246Z",
     "iopub.status.idle": "2023-09-10T13:03:48.506933Z",
     "shell.execute_reply": "2023-09-10T13:03:48.506251Z"
    },
    "papermill": {
     "duration": 0.017722,
     "end_time": "2023-09-10T13:03:48.508903",
     "exception": false,
     "start_time": "2023-09-10T13:03:48.491181",
     "status": "completed"
    },
    "tags": []
   },
   "outputs": [],
   "source": [
    "def leastsquare(x,y):\n",
    "    if x.ndim > 1:\n",
    "        x=np.squeeze(x)\n",
    "    d= x-np.mean(x)\n",
    "    m = np.divide(np.sum((d)*y),np.sum((d)**2))\n",
    "    return m,np.divide(np.sum(y),x.shape[0])"
   ]
  },
  {
   "cell_type": "code",
   "execution_count": 17,
   "id": "5f8729de",
   "metadata": {
    "execution": {
     "iopub.execute_input": "2023-09-10T13:03:48.527506Z",
     "iopub.status.busy": "2023-09-10T13:03:48.526792Z",
     "iopub.status.idle": "2023-09-10T13:03:48.533175Z",
     "shell.execute_reply": "2023-09-10T13:03:48.531951Z"
    },
    "papermill": {
     "duration": 0.0178,
     "end_time": "2023-09-10T13:03:48.535153",
     "exception": false,
     "start_time": "2023-09-10T13:03:48.517353",
     "status": "completed"
    },
    "tags": []
   },
   "outputs": [
    {
     "name": "stdout",
     "output_type": "stream",
     "text": [
      "2.9878865427158687 14.913481885455708\n"
     ]
    }
   ],
   "source": [
    "m1,c1 = leastsquare(x_train,y_train)\n",
    "print(m1,c1) # results are same or apporximately same as our gradient descent."
   ]
  }
 ],
 "kernelspec": {
  "display_name": "Python 3",
  "language": "python",
  "name": "python3"
 },
 "language_info": {
  "codemirror_mode": {
   "name": "ipython",
   "version": 3
  },
  "file_extension": ".py",
  "mimetype": "text/x-python",
  "name": "python",
  "nbconvert_exporter": "python",
  "pygments_lexer": "ipython3",
  "version": "3.6.4"
 },
 "metadata": {
  "kernelspec": {
   "display_name": "Python 3",
   "language": "python",
   "name": "python3"
  },
  "language_info": {
   "codemirror_mode": {
    "name": "ipython",
    "version": 3
   },
   "file_extension": ".py",
   "mimetype": "text/x-python",
   "name": "python",
   "nbconvert_exporter": "python",
   "pygments_lexer": "ipython3",
   "version": "3.10.12"
  },
  "papermill": {
   "default_parameters": {},
   "duration": 12.66481,
   "end_time": "2023-09-10T13:03:49.464257",
   "environment_variables": {},
   "exception": null,
   "input_path": "__notebook__.ipynb",
   "output_path": "__notebook__.ipynb",
   "parameters": {},
   "start_time": "2023-09-10T13:03:36.799447",
   "version": "2.4.0"
  }
 },
 "nbformat": 4,
 "nbformat_minor": 5
}
